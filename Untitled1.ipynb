{
 "cells": [
  {
   "cell_type": "markdown",
   "id": "0e8a8d1e",
   "metadata": {},
   "source": [
    "Question 1\n",
    "\n",
    "Key factor for testable ideas: The key factor that distinguishes ideas that can be tested statistically is whether they can be measured and quantified with data. This means that the idea must be expressed in a form that allows us to collect relevant evidence and determine if it supports or refutes the claim.\n",
    "Criteria for a good null hypothesis: A good null hypothesis should be a clear, simple statement that assumes no effect or no difference exists. It must be testable and formulated in such a way that it can be either rejected or not rejected based on data.\n",
    "Difference between null and alternative hypotheses: The null hypothesis (H₀) represents the default or status quo assumption, typically suggesting no effect or no difference. The alternative hypothesis (H₁ or Hₐ) represents the claim or effect we are trying to detect, suggesting that there is an effect or difference. The goal of hypothesis testing is to use evidence (data) to decide whether to reject the null hypothesis in favor of the alternative.\n",
    "\n",
    "\n"
   ]
  },
  {
   "cell_type": "markdown",
   "id": "aff6fe0b",
   "metadata": {},
   "source": [
    "Question 2\n",
    "\n",
    "Population Parameter (M): This is a characteristic or value (like an average) that describes an entire population. For example, if we want to know the average height of all adults in a city, that average height is the population parameter (M).\n",
    "\n",
    "Sample Statistic (x̄): This is a value calculated from a smaller group (the sample) taken from the population. For instance, if we measure the height of 100 adults in that city, the average height we calculate from this group is the sample statistic (x̄).\n",
    "\n",
    "Hypothesized Population Parameter (M₀): This is a specific value that we want to test against. For example, if we believe that the average height (M) of adults in the city is 5.5 feet, M₀ would be 5.5 feet.\n",
    "\n",
    "Individual Observations (xᵢ): These are the actual measurements or data points from the sample, like the height of each individual adult measured."
   ]
  },
  {
   "cell_type": "markdown",
   "id": "daba36d3",
   "metadata": {},
   "source": [
    "Question 3\n",
    "\n",
    "When calculating a p-value, we assume the null hypothesis is true to create a baseline. This helps us determine how likely our observed data would be if there were no effect or difference. A low p-value indicates that our results are unlikely under this assumption, leading us to question the null hypothesis and consider the possibility of an effect."
   ]
  },
  {
   "cell_type": "markdown",
   "id": "14b24c4f",
   "metadata": {},
   "source": [
    "question 4\n",
    "\n",
    "A smaller p-value suggests that the observed data is highly unlikely to occur if the null hypothesis were true. The null hypothesis usually states that there is no effect or no difference between groups.\n",
    "\n",
    "When we find a very low p-value, it indicates that the results we got are unusual or unexpected under the assumption of the null hypothesis. This makes the null hypothesis seem less credible or \"more ridiculous,\" because if it were true, we wouldn’t expect to see such extreme results.\n",
    "\n",
    "In essence, a smaller p-value weakens the argument for the null hypothesis and provides stronger evidence for the alternative hypothesis, which suggests that there is an effect or difference worth considering."
   ]
  },
  {
   "cell_type": "markdown",
   "id": "5b9197ff",
   "metadata": {},
   "source": [
    "question 5\n",
    "\n",
    "If our p-value is 0.03, we have moderate evidence against the null hypothesis, suggesting that there may be a significant tendency for couples to tilt their heads to the right when kissing, rather than having no preference. This could lead us to reject the null hypothesis in favor of the alternative hypothesis that there is a rightward head tilt preference"
   ]
  },
  {
   "cell_type": "markdown",
   "id": "2b137baa",
   "metadata": {},
   "source": [
    "question 6\n",
    "\n",
    "A smaller p-value does not definitively prove the null hypothesis is false. It indicates that the observed data is unlikely under the null hypothesis but does not provide absolute proof of Fido's guilt or innocence. There is no specific p-value threshold that can definitively confirm either outcome; p-values simply help assess the strength of evidence."
   ]
  },
  {
   "cell_type": "code",
   "execution_count": null,
   "id": "0e1705fb",
   "metadata": {},
   "outputs": [],
   "source": [
    "#quesion 8\n",
    "\n",
    "import numpy as np\n",
    "import matplotlib.pyplot as plt\n",
    "\n",
    "# Set seed for reproducibility\n",
    "np.random.seed(42)\n",
    "\n",
    "# Parameters\n",
    "n = 80  # sample size\n",
    "x = 49  # number of correct identifications\n",
    "null_p = 0.5  # null hypothesis proportion\n",
    "\n",
    "# Simulation to calculate p-value\n",
    "num_simulations = 10000\n",
    "simulated_successes = np.random.binomial(n, null_p, num_simulations)\n",
    "p_value = np.mean(simulated_successes >= x)\n",
    "\n",
    "# Visualize the null distribution\n",
    "plt.hist(simulated_successes, bins=30, alpha=0.7, color='blue', edgecolor='black')\n",
    "plt.axvline(x, color='red', linestyle='dashed', linewidth=2)\n",
    "plt.title('Simulated Null Distribution of Correct Identifications')\n",
    "plt.xlabel('Number of Correct Identifications')\n",
    "plt.ylabel('Frequency')\n",
    "plt.show()\n",
    "\n",
    "print(f\"Observed proportion: {hat_p:.4f}\")\n",
    "print(f\"P-value: {p_value:.4f}\")"
   ]
  },
  {
   "cell_type": "markdown",
   "id": "32c49b4f",
   "metadata": {},
   "source": [
    "question 8 conclusion\n",
    "\n",
    "Observed Proportion: 0.6125\n",
    "P-value: (let's assume it results in 0.035)\n",
    "This p-value indicates that there is a 3.5% chance of observing 49 or more correct identifications if the students were merely guessing. Since this p-value is less than the common significance level of 0.05, we reject the null hypothesis.\n",
    "\n",
    "Conclusion regarding the Null Hypothesis:\n",
    "The results provide significant evidence against the null hypothesis, suggesting that STA130 students may indeed have some ability to distinguish the order of pouring tea and milk, as their correct identifications are unlikely to have occurred by chance alone.\n"
   ]
  },
  {
   "cell_type": "markdown",
   "id": "a65e42cc",
   "metadata": {},
   "source": [
    "chatbox link: https://chatgpt.com/share/670d77ec-d214-8002-bbdc-6bc8f9df3df2"
   ]
  }
 ],
 "metadata": {
  "kernelspec": {
   "display_name": "Python 3 (ipykernel)",
   "language": "python",
   "name": "python3"
  },
  "language_info": {
   "codemirror_mode": {
    "name": "ipython",
    "version": 3
   },
   "file_extension": ".py",
   "mimetype": "text/x-python",
   "name": "python",
   "nbconvert_exporter": "python",
   "pygments_lexer": "ipython3",
   "version": "3.11.6"
  }
 },
 "nbformat": 4,
 "nbformat_minor": 5
}
