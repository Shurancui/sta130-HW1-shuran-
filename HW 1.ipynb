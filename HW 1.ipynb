{
 "cells": [
  {
   "cell_type": "code",
   "execution_count": 3,
   "id": "a561f1e9",
   "metadata": {
    "scrolled": true
   },
   "outputs": [
    {
     "data": {
      "text/plain": [
       "row_n           0\n",
       "id              1\n",
       "name            0\n",
       "gender          0\n",
       "species         0\n",
       "birthday        0\n",
       "personality     0\n",
       "song           11\n",
       "phrase          0\n",
       "full_id         0\n",
       "url             0\n",
       "dtype: int64"
      ]
     },
     "execution_count": 3,
     "metadata": {},
     "output_type": "execute_result"
    }
   ],
   "source": [
    "# question 1\n",
    "import pandas as pd\n",
    "url = \"https://raw.githubusercontent.com/rfordatascience/tidytuesday/master/data/2020/2020-05-05/villagers.csv\"\n",
    "df = pd.read_csv(url)\n",
    "df.isna().sum()"
   ]
  },
  {
   "cell_type": "code",
   "execution_count": 4,
   "id": "dc8198e8",
   "metadata": {},
   "outputs": [
    {
     "name": "stdout",
     "output_type": "stream",
     "text": [
      "Number of rows: 391\n",
      "Number of columns: 11\n"
     ]
    }
   ],
   "source": [
    "# question 2\n",
    "\n",
    "# part a \n",
    "print(f\"Number of rows: {df.shape[0]}\")\n",
    "print(f\"Number of columns: {df.shape[1]}\")\n",
    "\n",
    "#part b\n",
    "#observations: individual units or entities in a dataset that are recorded or measured. \n",
    "#variables: Variables are characteristics or attributes of the observations that are measured or recorded."
   ]
  },
  {
   "cell_type": "code",
   "execution_count": 8,
   "id": "92cb010e",
   "metadata": {},
   "outputs": [
    {
     "name": "stdout",
     "output_type": "stream",
     "text": [
      "            row_n\n",
      "count  391.000000\n",
      "mean   239.902813\n",
      "std    140.702672\n",
      "min      2.000000\n",
      "25%    117.500000\n",
      "50%    240.000000\n",
      "75%    363.500000\n",
      "max    483.000000\n"
     ]
    }
   ],
   "source": [
    "#question 3\n",
    "print(df.describe())# 算所有的数值， standard deviation\n",
    "#print(df['species'].value_counts())# 只算一种，提供分类列中唯一值的计数"
   ]
  },
  {
   "cell_type": "code",
   "execution_count": 6,
   "id": "b9c685b8",
   "metadata": {},
   "outputs": [
    {
     "data": {
      "text/plain": [
       "personality\n",
       "lazy      60\n",
       "normal    59\n",
       "cranky    55\n",
       "snooty    55\n",
       "jock      55\n",
       "peppy     49\n",
       "smug      34\n",
       "uchi      24\n",
       "Name: count, dtype: int64"
      ]
     },
     "execution_count": 6,
     "metadata": {},
     "output_type": "execute_result"
    }
   ],
   "source": [
    "# question 4 \n",
    "df['personality'].value_counts()\n",
    "\n",
    "# df. shape is to collect the data together in row and colum.\n",
    "#df describle() means to calculate Categorical variables"
   ]
  },
  {
   "cell_type": "code",
   "execution_count": null,
   "id": "e9fdadad",
   "metadata": {},
   "outputs": [],
   "source": [
    "#Question 5\n",
    "# Attributes: provide information about the object and are accessed directly without parentheses.\n",
    "# Methods are functions associated with the object that perform operations or computations and are called with parentheses.\n"
   ]
  },
  {
   "cell_type": "code",
   "execution_count": 7,
   "id": "d497e250",
   "metadata": {},
   "outputs": [
    {
     "name": "stdout",
     "output_type": "stream",
     "text": [
      "            row_n\n",
      "count  391.000000\n",
      "mean   239.902813\n",
      "std    140.702672\n",
      "min      2.000000\n",
      "25%    117.500000\n",
      "50%    240.000000\n",
      "75%    363.500000\n",
      "max    483.000000\n"
     ]
    }
   ],
   "source": [
    " #question 6\n",
    "print(df.describe())  "
   ]
  },
  {
   "cell_type": "code",
   "execution_count": 8,
   "id": "cd12a240",
   "metadata": {},
   "outputs": [
    {
     "name": "stdout",
     "output_type": "stream",
     "text": [
      "Original shape: (391, 11)\n",
      "Cleaned shape: (379, 11)\n"
     ]
    }
   ],
   "source": [
    "# question 7 \n",
    "\n",
    "# part a\n",
    "# Drop rows with any missing values\n",
    "df_cleaned = df.dropna()\n",
    "\n",
    "# Print the shape before and after\n",
    "print(f\"Original shape: {df.shape}\")\n",
    "print(f\"Cleaned shape: {df_cleaned.shape}\")"
   ]
  },
  {
   "cell_type": "code",
   "execution_count": 14,
   "id": "c3623790",
   "metadata": {},
   "outputs": [
    {
     "ename": "KeyError",
     "evalue": "'col_missing_values_of_wage'",
     "output_type": "error",
     "traceback": [
      "\u001b[0;31m---------------------------------------------------------------------------\u001b[0m",
      "\u001b[0;31mKeyError\u001b[0m                                  Traceback (most recent call last)",
      "File \u001b[0;32m/opt/conda/lib/python3.11/site-packages/pandas/core/indexes/base.py:3790\u001b[0m, in \u001b[0;36mIndex.get_loc\u001b[0;34m(self, key)\u001b[0m\n\u001b[1;32m   3789\u001b[0m \u001b[38;5;28;01mtry\u001b[39;00m:\n\u001b[0;32m-> 3790\u001b[0m     \u001b[38;5;28;01mreturn\u001b[39;00m \u001b[38;5;28;43mself\u001b[39;49m\u001b[38;5;241;43m.\u001b[39;49m\u001b[43m_engine\u001b[49m\u001b[38;5;241;43m.\u001b[39;49m\u001b[43mget_loc\u001b[49m\u001b[43m(\u001b[49m\u001b[43mcasted_key\u001b[49m\u001b[43m)\u001b[49m\n\u001b[1;32m   3791\u001b[0m \u001b[38;5;28;01mexcept\u001b[39;00m \u001b[38;5;167;01mKeyError\u001b[39;00m \u001b[38;5;28;01mas\u001b[39;00m err:\n",
      "File \u001b[0;32mindex.pyx:152\u001b[0m, in \u001b[0;36mpandas._libs.index.IndexEngine.get_loc\u001b[0;34m()\u001b[0m\n",
      "File \u001b[0;32mindex.pyx:181\u001b[0m, in \u001b[0;36mpandas._libs.index.IndexEngine.get_loc\u001b[0;34m()\u001b[0m\n",
      "File \u001b[0;32mpandas/_libs/hashtable_class_helper.pxi:7080\u001b[0m, in \u001b[0;36mpandas._libs.hashtable.PyObjectHashTable.get_item\u001b[0;34m()\u001b[0m\n",
      "File \u001b[0;32mpandas/_libs/hashtable_class_helper.pxi:7088\u001b[0m, in \u001b[0;36mpandas._libs.hashtable.PyObjectHashTable.get_item\u001b[0;34m()\u001b[0m\n",
      "\u001b[0;31mKeyError\u001b[0m: 'col_missing_values_of_wage'",
      "\nThe above exception was the direct cause of the following exception:\n",
      "\u001b[0;31mKeyError\u001b[0m                                  Traceback (most recent call last)",
      "Cell \u001b[0;32mIn[14], line 2\u001b[0m\n\u001b[1;32m      1\u001b[0m \u001b[38;5;66;03m# Remove a column with many missing values\u001b[39;00m\n\u001b[0;32m----> 2\u001b[0m \u001b[38;5;28;01mdel\u001b[39;00m \u001b[43mdf\u001b[49m\u001b[43m[\u001b[49m\u001b[38;5;124;43m'\u001b[39;49m\u001b[38;5;124;43mcol_missing_values_of_wage\u001b[39;49m\u001b[38;5;124;43m'\u001b[39;49m\u001b[43m]\u001b[49m\n\u001b[1;32m      4\u001b[0m \u001b[38;5;66;03m# Print the shape after column removal\u001b[39;00m\n\u001b[1;32m      5\u001b[0m \u001b[38;5;66;03m#print(f\"Shape after column removal: {df.shape}\")\u001b[39;00m\n",
      "File \u001b[0;32m/opt/conda/lib/python3.11/site-packages/pandas/core/generic.py:4441\u001b[0m, in \u001b[0;36mNDFrame.__delitem__\u001b[0;34m(self, key)\u001b[0m\n\u001b[1;32m   4436\u001b[0m             deleted \u001b[38;5;241m=\u001b[39m \u001b[38;5;28;01mTrue\u001b[39;00m\n\u001b[1;32m   4437\u001b[0m \u001b[38;5;28;01mif\u001b[39;00m \u001b[38;5;129;01mnot\u001b[39;00m deleted:\n\u001b[1;32m   4438\u001b[0m     \u001b[38;5;66;03m# If the above loop ran and didn't delete anything because\u001b[39;00m\n\u001b[1;32m   4439\u001b[0m     \u001b[38;5;66;03m# there was no match, this call should raise the appropriate\u001b[39;00m\n\u001b[1;32m   4440\u001b[0m     \u001b[38;5;66;03m# exception:\u001b[39;00m\n\u001b[0;32m-> 4441\u001b[0m     loc \u001b[38;5;241m=\u001b[39m \u001b[38;5;28;43mself\u001b[39;49m\u001b[38;5;241;43m.\u001b[39;49m\u001b[43maxes\u001b[49m\u001b[43m[\u001b[49m\u001b[38;5;241;43m-\u001b[39;49m\u001b[38;5;241;43m1\u001b[39;49m\u001b[43m]\u001b[49m\u001b[38;5;241;43m.\u001b[39;49m\u001b[43mget_loc\u001b[49m\u001b[43m(\u001b[49m\u001b[43mkey\u001b[49m\u001b[43m)\u001b[49m\n\u001b[1;32m   4442\u001b[0m     \u001b[38;5;28mself\u001b[39m\u001b[38;5;241m.\u001b[39m_mgr \u001b[38;5;241m=\u001b[39m \u001b[38;5;28mself\u001b[39m\u001b[38;5;241m.\u001b[39m_mgr\u001b[38;5;241m.\u001b[39midelete(loc)\n\u001b[1;32m   4444\u001b[0m \u001b[38;5;66;03m# delete from the caches\u001b[39;00m\n",
      "File \u001b[0;32m/opt/conda/lib/python3.11/site-packages/pandas/core/indexes/base.py:3797\u001b[0m, in \u001b[0;36mIndex.get_loc\u001b[0;34m(self, key)\u001b[0m\n\u001b[1;32m   3792\u001b[0m     \u001b[38;5;28;01mif\u001b[39;00m \u001b[38;5;28misinstance\u001b[39m(casted_key, \u001b[38;5;28mslice\u001b[39m) \u001b[38;5;129;01mor\u001b[39;00m (\n\u001b[1;32m   3793\u001b[0m         \u001b[38;5;28misinstance\u001b[39m(casted_key, abc\u001b[38;5;241m.\u001b[39mIterable)\n\u001b[1;32m   3794\u001b[0m         \u001b[38;5;129;01mand\u001b[39;00m \u001b[38;5;28many\u001b[39m(\u001b[38;5;28misinstance\u001b[39m(x, \u001b[38;5;28mslice\u001b[39m) \u001b[38;5;28;01mfor\u001b[39;00m x \u001b[38;5;129;01min\u001b[39;00m casted_key)\n\u001b[1;32m   3795\u001b[0m     ):\n\u001b[1;32m   3796\u001b[0m         \u001b[38;5;28;01mraise\u001b[39;00m InvalidIndexError(key)\n\u001b[0;32m-> 3797\u001b[0m     \u001b[38;5;28;01mraise\u001b[39;00m \u001b[38;5;167;01mKeyError\u001b[39;00m(key) \u001b[38;5;28;01mfrom\u001b[39;00m \u001b[38;5;21;01merr\u001b[39;00m\n\u001b[1;32m   3798\u001b[0m \u001b[38;5;28;01mexcept\u001b[39;00m \u001b[38;5;167;01mTypeError\u001b[39;00m:\n\u001b[1;32m   3799\u001b[0m     \u001b[38;5;66;03m# If we have a listlike key, _check_indexing_error will raise\u001b[39;00m\n\u001b[1;32m   3800\u001b[0m     \u001b[38;5;66;03m#  InvalidIndexError. Otherwise we fall through and re-raise\u001b[39;00m\n\u001b[1;32m   3801\u001b[0m     \u001b[38;5;66;03m#  the TypeError.\u001b[39;00m\n\u001b[1;32m   3802\u001b[0m     \u001b[38;5;28mself\u001b[39m\u001b[38;5;241m.\u001b[39m_check_indexing_error(key)\n",
      "\u001b[0;31mKeyError\u001b[0m: 'col_missing_values_of_wage'"
     ]
    }
   ],
   "source": [
    "# Remove a column with many missing values\n",
    "del df['col_missing_values_of_wage']\n",
    "\n",
    "# Print the shape after column removal\n",
    "#print(f\"Shape after column removal: {df.shape}\")"
   ]
  },
  {
   "cell_type": "code",
   "execution_count": 10,
   "id": "7e32a9ce",
   "metadata": {},
   "outputs": [
    {
     "name": "stdout",
     "output_type": "stream",
     "text": [
      "Original shape: (391, 11)\n",
      "Shape after removing columns with >50% missing values: (391, 11)\n",
      "Shape after dropping remaining rows with missing values: (379, 11)\n"
     ]
    }
   ],
   "source": [
    "# Print the original shape\n",
    "print(f\"Original shape: {df.shape}\")\n",
    "\n",
    "# Identify columns with more than 50% missing values\n",
    "missing_data = df.isna().mean()\n",
    "columns_to_drop = missing_data[missing_data > 0.5].index\n",
    "\n",
    "# Remove those columns\n",
    "df_cleaned_columns = df.drop(columns=columns_to_drop)\n",
    "\n",
    "# Drop rows with any missing values in the remaining dataset\n",
    "df_cleaned = df_cleaned_columns.dropna()\n",
    "\n",
    "# Print the shape after column removal and row cleaning\n",
    "print(f\"Shape after removing columns with >50% missing values: {df_cleaned_columns.shape}\")\n",
    "print(f\"Shape after dropping remaining rows with missing values: {df_cleaned.shape}\")"
   ]
  },
  {
   "cell_type": "code",
   "execution_count": 3,
   "id": "4d03037f",
   "metadata": {},
   "outputs": [
    {
     "name": "stdout",
     "output_type": "stream",
     "text": [
      "          count       mean        std     min       25%    50%        75%  \\\n",
      "embarked                                                                    \n",
      "C         168.0  59.954144  83.912994  4.0125  13.69795  29.70  78.500025   \n",
      "Q          77.0  13.276030  14.188047  6.7500   7.75000   7.75  15.500000   \n",
      "S         644.0  27.079812  35.887993  0.0000   8.05000  13.00  27.900000   \n",
      "\n",
      "               max  \n",
      "embarked            \n",
      "C         512.3292  \n",
      "Q          90.0000  \n",
      "S         263.0000  \n"
     ]
    }
   ],
   "source": [
    "# question 8 \n",
    "\n",
    "# 1\n",
    "# The df.groupby(\"col1\")[\"col2\"].describe() : count, mean, std, min/max and 25, 50, 75, 100\n",
    "url = \"https://raw.githubusercontent.com/mwaskom/seaborn-data/master/titanic.csv\"\n",
    "import pandas as pd\n",
    "\n",
    "df = pd.read_csv(url)\n",
    "\n",
    "grouped_description = df.groupby(\"embarked\")[\"fare\"].describe()\n",
    "\n",
    "print(grouped_description)"
   ]
  },
  {
   "cell_type": "code",
   "execution_count": null,
   "id": "f1d81804",
   "metadata": {},
   "outputs": [],
   "source": [
    "# 2\n",
    "# df.dropna(subset=['FeedbackScore']) only delete mising value\n",
    "#del df['col'] delete all data\n"
   ]
  },
  {
   "cell_type": "code",
   "execution_count": null,
   "id": "08e07bb4",
   "metadata": {},
   "outputs": [],
   "source": [
    "# 3A\n",
    "#Code Example:\n",
    "#df = pd.read_csv('titanic.csv')\n",
    "#Error Message:\n",
    "#NameError: name 'pd' is not defined\n",
    "\n",
    "#3B\n",
    "#1. Mistyped Filename\n",
    "#Code Example:\n",
    "#df = pd.read_csv('titanics.csv')\n",
    "#Error Message:\n",
    "#FileNotFoundError: [Errno 2] No such file or directory:\n",
    "\n",
    "# 2. Mistyped Directory Path\n",
    "#Code Example:\n",
    "#df = pd.read_csv('data/titanic.csv')\n",
    "#Error Message:\n",
    "#FileNotFoundError: [Errno 2] No such file or directory: 'data/titanic.csv'\n",
    "\n",
    "#3. Typo in URL Path (for online files)\n",
    "#Code Example:\n",
    "#df = pd.read_csv('http://example.com/titanics.csv')\n",
    "#Error Message:\n",
    "#HTTPError: 404 Client Error: Not Found for url: http://example.com/titanics.csv\n",
    "\n",
    "#3c\n",
    "#Incorrect Code (Variable Name Error):\n",
    "\n",
    "#import pandas as pd\n",
    "#df = pd.read_csv('titanic.csv')\n",
    "#result = DF.groupby(\"col1\")[\"col2\"].describe()\n",
    "\n",
    "#3D\n",
    "#Incorrect Code (Missing Parenthesis):\n",
    "#import pandas as pd\n",
    "#df = pd.read_csv('titanic.csv'\n",
    "\n",
    "#3E\n",
    "#Incorrect Code 1 (Mistyped Method Name):\n",
    "#import pandas as pd\n",
    "#df = pd.read_csv('titanic.csv')\n",
    "#result = df.group_by(\"col1\")[\"col2\"].describe()\n",
    "\n",
    "#3F\n",
    "#Incorrect Code 1 (Mistyped Groupby Column Name):\n",
    "#import pandas as pd\n",
    "#df = pd.read_csv('titanic.csv')\n",
    "#result = df.groupby(\"Sex\")[\"age\"].describe()\n",
    "\n",
    "#3G\n",
    "#Incorrect Code 1 (Missing Quotes in groupby):\n",
    "#import pandas as pd\n",
    "#df = pd.read_csv('titanic.csv')\n",
    "#result = df.groupby(sex)[\"age\"].describe()"
   ]
  },
  {
   "cell_type": "code",
   "execution_count": null,
   "id": "bb761c63",
   "metadata": {},
   "outputs": [],
   "source": [
    "# 9 : yes"
   ]
  }
 ],
 "metadata": {
  "kernelspec": {
   "display_name": "Python 3 (ipykernel)",
   "language": "python",
   "name": "python3"
  },
  "language_info": {
   "codemirror_mode": {
    "name": "ipython",
    "version": 3
   },
   "file_extension": ".py",
   "mimetype": "text/x-python",
   "name": "python",
   "nbconvert_exporter": "python",
   "pygments_lexer": "ipython3",
   "version": "3.11.6"
  }
 },
 "nbformat": 4,
 "nbformat_minor": 5
}
