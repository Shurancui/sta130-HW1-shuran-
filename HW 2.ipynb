{
 "cells": [
  {
   "cell_type": "code",
   "execution_count": 1,
   "id": "c82b6f84",
   "metadata": {},
   "outputs": [
    {
     "name": "stdout",
     "output_type": "stream",
     "text": [
      "Switching wins: 66.98%\n",
      "Not switching wins: 33.41%\n"
     ]
    }
   ],
   "source": [
    "#question 1/2/3\n",
    "import random  # Import the random module to handle random choices\n",
    "\n",
    "def simulate_monty_hall(switch, num_trials):\n",
    "    \"\"\"Simulate the Monty Hall problem and return the percentage of wins.\"\"\"\n",
    "    \n",
    "    wins = 0  # Initialize a counter for wins\n",
    "    \n",
    "    # Run the simulation for the specified number of trials\n",
    "    for _ in range(num_trials):\n",
    "        # Randomly place the car behind one of the three doors\n",
    "        car_position = random.randint(0, 2)\n",
    "        \n",
    "        # The contestant picks a random door\n",
    "        contestant_choice = random.randint(0, 2)\n",
    "        \n",
    "        # Monty opens a door that does not have the car and is not the contestant's choice\n",
    "        remaining_doors = [door for door in range(3) if door != contestant_choice and door != car_position]\n",
    "        monty_opens = random.choice(remaining_doors)  # Monty opens one of the remaining doors\n",
    "        \n",
    "        # If the contestant switches, they change their choice to the remaining unopened door\n",
    "        if switch:\n",
    "            contestant_choice = [door for door in range(3) if door != contestant_choice and door != monty_opens][0]\n",
    "        \n",
    "        # If the contestant's final choice is the car's position, they win\n",
    "        if contestant_choice == car_position:\n",
    "            wins += 1\n",
    "    \n",
    "    # Return the percentage of wins\n",
    "    return (wins / num_trials) * 100\n",
    "\n",
    "# Number of trials for the simulation\n",
    "num_trials = 10000\n",
    "\n",
    "# Run the simulation where the contestant switches doors\n",
    "switch_wins = simulate_monty_hall(switch=True, num_trials=num_trials)\n",
    "print(f\"Switching wins: {switch_wins:.2f}%\")\n",
    "\n",
    "# Run the simulation where the contestant does not switch doors\n",
    "stay_wins = simulate_monty_hall(switch=False, num_trials=num_trials)\n",
    "print(f\"Not switching wins: {stay_wins:.2f}%\")\n"
   ]
  },
  {
   "cell_type": "code",
   "execution_count": null,
   "id": "4afc76d3",
   "metadata": {},
   "outputs": [],
   "source": [
    "# question 4/5\n",
    "\n",
    "import random  # Import the random module for random selection\n",
    "\n",
    "def get_remaining_doors(contestant_choice, car_position):\n",
    "    \"\"\"Returns the doors Monty can open (not the contestant's choice, and not the car's location).\"\"\"\n",
    "    return [door for door in range(3) if door != contestant_choice and door != car_position]\n",
    "\n",
    "def choose_door(doors):\n",
    "    \"\"\"Randomly selects a door from the given doors.\"\"\"\n",
    "    return random.choice(doors)\n",
    "\n",
    "def simulate_single_game(switch):\n",
    "    \"\"\"Simulates one game of the Monty Hall problem, returns whether the contestant wins.\"\"\"\n",
    "    car_position = random.randint(0, 2)  # Randomly assign the car to one of the doors\n",
    "    contestant_choice = random.randint(0, 2)  # Contestant randomly selects one door\n",
    "    \n",
    "    # Monty opens a door that does not have the car and is not the contestant's choice\n",
    "    monty_opens = choose_door(get_remaining_doors(contestant_choice, car_position))\n",
    "\n",
    "    # If the contestant chooses to switch, they pick the remaining unopened door\n",
    "    if switch:\n",
    "        contestant_choice = [door for door in range(3) if door != contestant_choice and door != monty_opens][0]\n",
    "\n",
    "    # Return whether the contestant chose the door with the car behind it\n",
    "    return contestant_choice == car_position\n",
    "\n",
    "def simulate_monty_hall(switch, num_trials):\n",
    "    \"\"\"Simulates multiple Monty Hall games and returns the winning percentage.\"\"\"\n",
    "    wins = sum(simulate_single_game(switch) for _ in range(num_trials))  # Count the number of wins\n",
    "    return (wins / num_trials) * 100  # Return the winning percentage\n",
    "\n",
    "# Run the simulation and output the results\n",
    "num_trials = 10000  # Set the number of games to simulate\n",
    "switch_wins = simulate_monty_hall(True, num_trials)  # Simulate the case where the contestant switches doors\n",
    "stay_wins = simulate_monty_hall(False, num_trials)  # Simulate the case where the contestant does not switch\n",
    "\n",
    "# Print the results\n",
    "print(f\"Winning percentage when switching: {switch_wins}%\")\n",
    "print(f\"Winning percentage when staying: {stay_wins}%\")\n"
   ]
  },
  {
   "cell_type": "code",
   "execution_count": null,
   "id": "391ffdf5",
   "metadata": {},
   "outputs": [],
   "source": [
    "#question 6 \n",
    "#ChatBots can quickly give me useful code and provide clear explanations. While generally useful, there are times when ChatBots cannot solve more complex concepts."
   ]
  },
  {
   "cell_type": "code",
   "execution_count": null,
   "id": "914608ff",
   "metadata": {},
   "outputs": [],
   "source": [
    "#question 7 \n",
    "#At first I just used him as a basic assistant to explain the code. But later I found that Chatgpt was more like a teacher to me, helping me with anything I didn't understand, and he was also very convenient because he could reply at any time."
   ]
  },
  {
   "cell_type": "code",
   "execution_count": null,
   "id": "a6ba261f",
   "metadata": {},
   "outputs": [],
   "source": [
    "#question 8\n",
    "#Interaction experience with ChatBot (Monty Hall Problem and Markov Chain):\n",
    "#ChatBot was very responsive and explained both questions. It provided step-by-step instructions and helped clarify the logic behind the code.\n",
    "\n",
    "#Frustration or unhelpfulness during interaction:\n",
    "#ChatBot was generally helpful, but sometimes explanations were too broad or lacked details and required additional prompts.\n",
    "\n",
    "#Overall evaluation of ChatBot's ability to solve code problems:\n",
    "#ChatBot was very helpful for debugging and understanding code, providing clear explanations and useful suggestions. However, for very complex topics, human expert help may still be needed.\n",
    "\n",
    "#Evolution of opinion on AI tools in programming, statistics, and data science:\n",
    "#My opinion has become more positive. AI tools like ChatBot are great for learning and debugging, but they need to be supplemented with critical thinking."
   ]
  },
  {
   "cell_type": "code",
   "execution_count": null,
   "id": "a1c0ab33",
   "metadata": {},
   "outputs": [],
   "source": [
    "#question 9\n",
    "# yes i do reviewed the course wiki textbook\n",
    "#here is the chatbox conversation link:\n",
    "#https://chatgpt.com/share/66ec4143-8ecc-8002-9d6e-667bf3a1b76f"
   ]
  }
 ],
 "metadata": {
  "kernelspec": {
   "display_name": "Python 3 (ipykernel)",
   "language": "python",
   "name": "python3"
  },
  "language_info": {
   "codemirror_mode": {
    "name": "ipython",
    "version": 3
   },
   "file_extension": ".py",
   "mimetype": "text/x-python",
   "name": "python",
   "nbconvert_exporter": "python",
   "pygments_lexer": "ipython3",
   "version": "3.11.6"
  }
 },
 "nbformat": 4,
 "nbformat_minor": 5
}
