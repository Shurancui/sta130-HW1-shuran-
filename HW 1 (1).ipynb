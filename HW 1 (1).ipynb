{
 "cells": [
  {
   "cell_type": "code",
   "execution_count": 3,
   "id": "a561f1e9",
   "metadata": {
    "scrolled": true
   },
   "outputs": [
    {
     "data": {
      "text/plain": [
       "row_n           0\n",
       "id              1\n",
       "name            0\n",
       "gender          0\n",
       "species         0\n",
       "birthday        0\n",
       "personality     0\n",
       "song           11\n",
       "phrase          0\n",
       "full_id         0\n",
       "url             0\n",
       "dtype: int64"
      ]
     },
     "execution_count": 3,
     "metadata": {},
     "output_type": "execute_result"
    }
   ],
   "source": [
    "# question 1\n",
    "import pandas as pd\n",
    "url = \"https://raw.githubusercontent.com/rfordatascience/tidytuesday/master/data/2020/2020-05-05/villagers.csv\"\n",
    "df = pd.read_csv(url)\n",
    "df.isna().sum()"
   ]
  },
  {
   "cell_type": "code",
   "execution_count": 4,
   "id": "dc8198e8",
   "metadata": {},
   "outputs": [
    {
     "name": "stdout",
     "output_type": "stream",
     "text": [
      "Number of rows: 391\n",
      "Number of columns: 11\n"
     ]
    }
   ],
   "source": [
    "# question 2\n",
    "\n",
    "# part a \n",
    "print(f\"Number of rows: {df.shape[0]}\")\n",
    "print(f\"Number of columns: {df.shape[1]}\")\n",
    "\n",
    "#part b\n",
    "#observations: individual units or entities in a dataset that are recorded or measured. \n",
    "#variables: Variables are characteristics or attributes of the observations that are measured or recorded."
   ]
  },
  {
   "cell_type": "code",
   "execution_count": 9,
   "id": "92cb010e",
   "metadata": {},
   "outputs": [
    {
     "name": "stdout",
     "output_type": "stream",
     "text": [
      "survived         0\n",
      "pclass           0\n",
      "sex              0\n",
      "age            177\n",
      "sibsp            0\n",
      "parch            0\n",
      "fare             0\n",
      "embarked         2\n",
      "class            0\n",
      "who              0\n",
      "adult_male       0\n",
      "deck           688\n",
      "embark_town      2\n",
      "alive            0\n",
      "alone            0\n",
      "dtype: int64\n",
      "         survived      pclass         age       sibsp       parch        fare\n",
      "count  891.000000  891.000000  714.000000  891.000000  891.000000  891.000000\n",
      "mean     0.383838    2.308642   29.699118    0.523008    0.381594   32.204208\n",
      "std      0.486592    0.836071   14.526497    1.102743    0.806057   49.693429\n",
      "min      0.000000    1.000000    0.420000    0.000000    0.000000    0.000000\n",
      "25%      0.000000    2.000000   20.125000    0.000000    0.000000    7.910400\n",
      "50%      0.000000    3.000000   28.000000    0.000000    0.000000   14.454200\n",
      "75%      1.000000    3.000000   38.000000    1.000000    0.000000   31.000000\n",
      "max      1.000000    3.000000   80.000000    8.000000    6.000000  512.329200\n",
      "\n",
      "sex\n",
      "male      577\n",
      "female    314\n",
      "Name: count, dtype: int64\n"
     ]
    }
   ],
   "source": [
    "#question 3\n",
    "\n",
    "# Check for missing values\n",
    "print(df.isna().sum())\n",
    "# Describe the dataset (for numeric data)\n",
    "print(df.describe())\n",
    "#empty line\n",
    "print()\n",
    "# Use value_counts() on a specific column ('sex')\n",
    "print(df['sex'].value_counts())"
   ]
  },
  {
   "cell_type": "code",
   "execution_count": 11,
   "id": "b9c685b8",
   "metadata": {},
   "outputs": [
    {
     "name": "stdout",
     "output_type": "stream",
     "text": [
      "(891, 15)\n"
     ]
    },
    {
     "data": {
      "text/plain": [
       "deck\n",
       "C    59\n",
       "B    47\n",
       "D    33\n",
       "E    32\n",
       "A    15\n",
       "F    13\n",
       "G     4\n",
       "Name: count, dtype: int64"
      ]
     },
     "execution_count": 11,
     "metadata": {},
     "output_type": "execute_result"
    }
   ],
   "source": [
    "# question 4 \n",
    "\n",
    "# Shape of the dataset\n",
    "print(df.shape)  # Returns the total number of rows and columns \n",
    "\n",
    "#Describe only numeric columns\n",
    "df['deck'].value_counts()\n",
    "\n",
    "# df. shape is to collect the data together in row and colum.\n",
    "#df describle() means to calculate Categorical variables"
   ]
  },
  {
   "cell_type": "code",
   "execution_count": null,
   "id": "e9fdadad",
   "metadata": {},
   "outputs": [],
   "source": [
    "#Question 5\n",
    "# Attributes: provide information about the object and are accessed directly without parentheses.\n",
    "# Without parentheses because we are directly retrieving stored information.\n",
    "# Methods are functions associated with the object that perform operations or computations and are called with parentheses.\n",
    "# using parentneses because we need to instructing the object to perform an action, such as summarizing, filtering, or modifying data. "
   ]
  },
  {
   "cell_type": "code",
   "execution_count": 7,
   "id": "d497e250",
   "metadata": {},
   "outputs": [
    {
     "name": "stdout",
     "output_type": "stream",
     "text": [
      "            row_n\n",
      "count  391.000000\n",
      "mean   239.902813\n",
      "std    140.702672\n",
      "min      2.000000\n",
      "25%    117.500000\n",
      "50%    240.000000\n",
      "75%    363.500000\n",
      "max    483.000000\n"
     ]
    }
   ],
   "source": [
    " #question 6\n",
    "print(df.describe())  "
   ]
  },
  {
   "cell_type": "code",
   "execution_count": 16,
   "id": "cd12a240",
   "metadata": {},
   "outputs": [
    {
     "name": "stdout",
     "output_type": "stream",
     "text": [
      "Original shape: (891, 14)\n",
      "Cleaned shape: (182, 15)\n"
     ]
    }
   ],
   "source": [
    "# question 7 \n",
    "\n",
    "# part 1/ part 2\n",
    "# Drop rows with any missing values\n",
    "df_cleaned = df.dropna()\n",
    "#example: df.dropna() is preferred if the dataset has several rows with missing values ​​spread across different columns. For example, a survey dataset with occasional missing responses, but most of the data is complete.\n",
    "\n",
    "# Remove the entire column\n",
    "del df['deck']\n",
    "#If a particular column has a large number of missing values. For example, more than 80% of the entries in the column are missing\n",
    "# Print the shape before and after\n",
    "\n",
    "#part 3\n",
    "#It may be important to apply del df['col'] before df.dropna() as it will remove specific columns that may contain unnecessary or problematic data before deleting rows with missing values."
   ]
  },
  {
   "cell_type": "code",
   "execution_count": 20,
   "id": "7e32a9ce",
   "metadata": {},
   "outputs": [
    {
     "name": "stdout",
     "output_type": "stream",
     "text": [
      "Missing values before any cleaning:\n",
      "survived         0\n",
      "pclass           0\n",
      "sex              0\n",
      "age            177\n",
      "sibsp            0\n",
      "parch            0\n",
      "fare             0\n",
      "embarked         2\n",
      "class            0\n",
      "who              0\n",
      "adult_male       0\n",
      "embark_town      2\n",
      "alive            0\n",
      "alone            0\n",
      "dtype: int64\n",
      "\n",
      "Missing values after cleaning:\n",
      "survived       0\n",
      "pclass         0\n",
      "sex            0\n",
      "sibsp          0\n",
      "parch          0\n",
      "fare           0\n",
      "embarked       0\n",
      "class          0\n",
      "who            0\n",
      "adult_male     0\n",
      "embark_town    0\n",
      "alive          0\n",
      "alone          0\n",
      "dtype: int64\n"
     ]
    }
   ],
   "source": [
    "#part 4\n",
    "\n",
    "# Print the original shape\n",
    "# Check missing values\n",
    "missing_values_before = df.isna().sum()\n",
    "print(\"Missing values before any cleaning:\")\n",
    "print(missing_values_before)\n",
    "\n",
    "# Remove the 'age' column\n",
    "if 'age' in df.columns:\n",
    "    del df['age']\n",
    "    \n",
    "# Drop rows with any remaining missing values\n",
    "df_cleaned = df.dropna()\n",
    "\n",
    "# Check missing values after cleaning\n",
    "missing_values_after = df_cleaned.isna().sum()\n",
    "print(\"\\nMissing values after cleaning:\")\n",
    "print(missing_values_after)"
   ]
  },
  {
   "cell_type": "code",
   "execution_count": 3,
   "id": "4d03037f",
   "metadata": {},
   "outputs": [
    {
     "name": "stdout",
     "output_type": "stream",
     "text": [
      "          count       mean        std     min       25%    50%        75%  \\\n",
      "embarked                                                                    \n",
      "C         168.0  59.954144  83.912994  4.0125  13.69795  29.70  78.500025   \n",
      "Q          77.0  13.276030  14.188047  6.7500   7.75000   7.75  15.500000   \n",
      "S         644.0  27.079812  35.887993  0.0000   8.05000  13.00  27.900000   \n",
      "\n",
      "               max  \n",
      "embarked            \n",
      "C         512.3292  \n",
      "Q          90.0000  \n",
      "S         263.0000  \n"
     ]
    }
   ],
   "source": [
    "# question 8 \n",
    "\n",
    "# 1\n",
    "# The df.groupby(\"col1\")[\"col2\"].describe() : count, mean, std, min/max and 25, 50, 75, 100\n",
    "url = \"https://raw.githubusercontent.com/mwaskom/seaborn-data/master/titanic.csv\"\n",
    "import pandas as pd\n",
    "\n",
    "df = pd.read_csv(url)\n",
    "\n",
    "grouped_description = df.groupby(\"embarked\")[\"fare\"].describe()\n",
    "\n",
    "print(grouped_description)"
   ]
  },
  {
   "cell_type": "code",
   "execution_count": null,
   "id": "8c113476",
   "metadata": {},
   "outputs": [],
   "source": [
    "# 2\n",
    "# df.dropna(subset=['FeedbackScore']) only delete mising value\n",
    "#del df['col'] delete all data"
   ]
  },
  {
   "cell_type": "code",
   "execution_count": null,
   "id": "8078c82e",
   "metadata": {},
   "outputs": [],
   "source": [
    "# 3A\n",
    "#Code Example:\n",
    "#df = pd.read_csv('titanic.csv')\n",
    "#Error Message:\n",
    "#NameError: name 'pd' is not defined\n",
    "\n",
    "#3B\n",
    "#1. Mistyped Filename\n",
    "#Code Example:\n",
    "#df = pd.read_csv('titanics.csv')\n",
    "#Error Message:\n",
    "#FileNotFoundError: [Errno 2] No such file or directory:\n",
    "\n",
    "# 2. Mistyped Directory Path\n",
    "#Code Example:\n",
    "#df = pd.read_csv('data/titanic.csv')\n",
    "#Error Message:\n",
    "#FileNotFoundError: [Errno 2] No such file or directory: 'data/titanic.csv'\n",
    "\n",
    "#3. Typo in URL Path (for online files)\n",
    "#Code Example:\n",
    "#df = pd.read_csv('http://example.com/titanics.csv')\n",
    "#Error Message:\n",
    "#HTTPError: 404 Client Error: Not Found for url: http://example.com/titanics.csv\n",
    "\n",
    "#3c\n",
    "#Incorrect Code (Variable Name Error):\n",
    "\n",
    "#import pandas as pd\n",
    "#df = pd.read_csv('titanic.csv')\n",
    "#result = DF.groupby(\"col1\")[\"col2\"].describe()\n",
    "\n",
    "#3D\n",
    "#Incorrect Code (Missing Parenthesis):\n",
    "#import pandas as pd\n",
    "#df = pd.read_csv('titanic.csv'\n",
    "\n",
    "#3E\n",
    "#Incorrect Code 1 (Mistyped Method Name):\n",
    "#import pandas as pd\n",
    "#df = pd.read_csv('titanic.csv')\n",
    "#result = df.group_by(\"col1\")[\"col2\"].describe()\n",
    "\n",
    "#3F\n",
    "#Incorrect Code 1 (Mistyped Groupby Column Name):\n",
    "#import pandas as pd\n",
    "#df = pd.read_csv('titanic.csv')\n",
    "#result = df.groupby(\"Sex\")[\"age\"].describe()\n",
    "\n",
    "#3G\n",
    "#Incorrect Code 1 (Missing Quotes in groupby):\n",
    "#import pandas as pd\n",
    "#df = pd.read_csv('titanic.csv')\n",
    "#result = df.groupby(sex)[\"age\"].describe()"
   ]
  },
  {
   "cell_type": "code",
   "execution_count": null,
   "id": "8a18e7e8",
   "metadata": {},
   "outputs": [],
   "source": [
    "# question 9 : yes\n",
    "\n",
    "#chatbox link: \n",
    "#https://chatgpt.com/share/f1b21938-36fc-4436-ae95-ae2bc103aaba\n",
    "#https://chatgpt.com/share/b031bd6d-928e-4fa3-8692-e312adff3dfc"
   ]
  }
 ],
 "metadata": {
  "kernelspec": {
   "display_name": "Python 3 (ipykernel)",
   "language": "python",
   "name": "python3"
  },
  "language_info": {
   "codemirror_mode": {
    "name": "ipython",
    "version": 3
   },
   "file_extension": ".py",
   "mimetype": "text/x-python",
   "name": "python",
   "nbconvert_exporter": "python",
   "pygments_lexer": "ipython3",
   "version": "3.11.6"
  }
 },
 "nbformat": 4,
 "nbformat_minor": 5
}
